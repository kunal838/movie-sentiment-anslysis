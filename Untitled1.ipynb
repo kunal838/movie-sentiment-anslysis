{
 "cells": [
  {
   "cell_type": "code",
   "execution_count": 9,
   "id": "1fac2654",
   "metadata": {},
   "outputs": [
    {
     "name": "stdout",
     "output_type": "stream",
     "text": [
      "Failed to get sentiment. Status code: 500\n"
     ]
    }
   ],
   "source": [
    "import requests\n",
    "\n",
    "# URL of the Flask API with the review as a query parameter\n",
    "url = 'http://localhost:5000/analyze_sentiment?review=The%20movie%20was%20fantastic!%20I%20loved%20it%20so%20much.'\n",
    "\n",
    "# Send the GET request\n",
    "response = requests.get(url)\n",
    "\n",
    "# Check the response status code\n",
    "if response.status_code == 200:\n",
    "    result = response.json()\n",
    "    sentiment = result.get('sentiment', 'unknown')\n",
    "    print(f\"Sentiment: {sentiment}\")\n",
    "else:\n",
    "    print(f\"Failed to get sentiment. Status code: {response.status_code}\")"
   ]
  },
  {
   "cell_type": "code",
   "execution_count": null,
   "id": "5f575c56",
   "metadata": {},
   "outputs": [],
   "source": []
  },
  {
   "cell_type": "code",
   "execution_count": null,
   "id": "9a7ad958",
   "metadata": {},
   "outputs": [],
   "source": []
  },
  {
   "cell_type": "code",
   "execution_count": null,
   "id": "b9e4d7cb",
   "metadata": {},
   "outputs": [],
   "source": []
  },
  {
   "cell_type": "code",
   "execution_count": null,
   "id": "3f6ad407",
   "metadata": {},
   "outputs": [],
   "source": []
  }
 ],
 "metadata": {
  "kernelspec": {
   "display_name": "Python 3 (ipykernel)",
   "language": "python",
   "name": "python3"
  },
  "language_info": {
   "codemirror_mode": {
    "name": "ipython",
    "version": 3
   },
   "file_extension": ".py",
   "mimetype": "text/x-python",
   "name": "python",
   "nbconvert_exporter": "python",
   "pygments_lexer": "ipython3",
   "version": "3.10.9"
  }
 },
 "nbformat": 4,
 "nbformat_minor": 5
}
