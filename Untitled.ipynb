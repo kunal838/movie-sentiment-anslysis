{
 "cells": [
  {
   "cell_type": "code",
   "execution_count": 5,
   "id": "65785bbf",
   "metadata": {},
   "outputs": [
    {
     "name": "stdout",
     "output_type": "stream",
     "text": [
      "Epoch 1/5\n",
      "196/196 [==============================] - 84s 424ms/step - loss: 0.4316 - accuracy: 0.7882 - val_loss: 0.3158 - val_accuracy: 0.8666\n",
      "Epoch 2/5\n",
      "196/196 [==============================] - 94s 478ms/step - loss: 0.2288 - accuracy: 0.9130 - val_loss: 0.3099 - val_accuracy: 0.8750\n",
      "Epoch 3/5\n",
      "196/196 [==============================] - 92s 471ms/step - loss: 0.1602 - accuracy: 0.9407 - val_loss: 0.3459 - val_accuracy: 0.8669\n",
      "Epoch 4/5\n",
      "196/196 [==============================] - 95s 485ms/step - loss: 0.1248 - accuracy: 0.9556 - val_loss: 0.3611 - val_accuracy: 0.8496\n",
      "Epoch 5/5\n",
      "196/196 [==============================] - 90s 460ms/step - loss: 0.1013 - accuracy: 0.9640 - val_loss: 0.4279 - val_accuracy: 0.8578\n",
      "1/1 [==============================] - 0s 275ms/step\n",
      "The predicted sentiment of the review is: positive\n"
     ]
    }
   ],
   "source": [
    "import tensorflow as tf\n",
    "from tensorflow.keras.datasets import imdb\n",
    "from tensorflow.keras.preprocessing.sequence import pad_sequences\n",
    "from tensorflow.keras.models import Sequential\n",
    "from tensorflow.keras.layers import Embedding, LSTM, Dense\n",
    "\n",
    "# Load the IMDb dataset\n",
    "(x_train, y_train), (x_test, y_test) = imdb.load_data(num_words=10000)\n",
    "\n",
    "# Pad sequences to make them the same length\n",
    "max_sequence_length = 200\n",
    "x_train = pad_sequences(x_train, maxlen=max_sequence_length)\n",
    "x_test = pad_sequences(x_test, maxlen=max_sequence_length)\n",
    "\n",
    "# Build the model\n",
    "model = Sequential()\n",
    "model.add(Embedding(input_dim=10000, output_dim=128, input_length=max_sequence_length))\n",
    "model.add(LSTM(64))\n",
    "model.add(Dense(1, activation='sigmoid'))\n",
    "\n",
    "model.compile(loss='binary_crossentropy', optimizer='adam', metrics=['accuracy'])\n",
    "\n",
    "# Train the model\n",
    "model.fit(x_train, y_train, epochs=5, batch_size=128, validation_data=(x_test, y_test))\n",
    "\n",
    "# Example review for prediction\n",
    "example_review = \"The movie was fantastic! I loved it so much.\"\n",
    "\n",
    "# Preprocess the example review (convert to sequences and pad)\n",
    "word_index = imdb.get_word_index()\n",
    "example_review_seq = [word_index[word] if word in word_index else 0 for word in example_review.lower().split()]\n",
    "example_review_seq = pad_sequences([example_review_seq], maxlen=max_sequence_length)\n",
    "\n",
    "# Make prediction\n",
    "prediction = model.predict(example_review_seq)\n",
    "if prediction[0][0] >= 0.5:\n",
    "    sentiment = 'positive'\n",
    "else:\n",
    "    sentiment = 'negative'\n",
    "\n",
    "print(f\"The predicted sentiment of the review is: {sentiment}\")\n",
    "\n",
    "model.save('mini.h5')\n"
   ]
  },
  {
   "cell_type": "code",
   "execution_count": 3,
   "id": "234a1eed",
   "metadata": {},
   "outputs": [],
   "source": [
    "\n"
   ]
  },
  {
   "cell_type": "code",
   "execution_count": 1,
   "id": "0038c5c7",
   "metadata": {},
   "outputs": [
    {
     "ename": "NameError",
     "evalue": "name 'imdb' is not defined",
     "output_type": "error",
     "traceback": [
      "\u001b[0;31m---------------------------------------------------------------------------\u001b[0m",
      "\u001b[0;31mNameError\u001b[0m                                 Traceback (most recent call last)",
      "Cell \u001b[0;32mIn[1], line 4\u001b[0m\n\u001b[1;32m      1\u001b[0m example_review \u001b[38;5;241m=\u001b[39m \u001b[38;5;124m\"\u001b[39m\u001b[38;5;124mThe movie was fantastic! I loved it so much.\u001b[39m\u001b[38;5;124m\"\u001b[39m\n\u001b[1;32m      3\u001b[0m \u001b[38;5;66;03m# Preprocess the example review (convert to sequences and pad)\u001b[39;00m\n\u001b[0;32m----> 4\u001b[0m word_index \u001b[38;5;241m=\u001b[39m \u001b[43mimdb\u001b[49m\u001b[38;5;241m.\u001b[39mget_word_index()\n\u001b[1;32m      5\u001b[0m example_review_seq \u001b[38;5;241m=\u001b[39m [word_index[word] \u001b[38;5;28;01mif\u001b[39;00m word \u001b[38;5;129;01min\u001b[39;00m word_index \u001b[38;5;28;01melse\u001b[39;00m \u001b[38;5;241m0\u001b[39m \u001b[38;5;28;01mfor\u001b[39;00m word \u001b[38;5;129;01min\u001b[39;00m example_review\u001b[38;5;241m.\u001b[39mlower()\u001b[38;5;241m.\u001b[39msplit()]\n\u001b[1;32m      6\u001b[0m example_review_seq \u001b[38;5;241m=\u001b[39m pad_sequences([example_review_seq], maxlen\u001b[38;5;241m=\u001b[39mmax_sequence_length)\n",
      "\u001b[0;31mNameError\u001b[0m: name 'imdb' is not defined"
     ]
    }
   ],
   "source": [
    "example_review = \"The movie was fantastic! I loved it so much.\"\n",
    "\n",
    "# Preprocess the example review (convert to sequences and pad)\n",
    "word_index = imdb.get_word_index()\n",
    "example_review_seq = [word_index[word] if word in word_index else 0 for word in example_review.lower().split()]\n",
    "example_review_seq = pad_sequences([example_review_seq], maxlen=max_sequence_length)\n",
    "\n",
    "# Make prediction\n",
    "prediction = model.predict(example_review_seq)\n",
    "if prediction[0][0] >= 0.5:\n",
    "    sentiment = 'positive'\n",
    "else:\n",
    "    sentiment = 'negative'\n",
    "\n",
    "print(f\"The predicted sentiment of the review is: {sentiment}\")"
   ]
  },
  {
   "cell_type": "code",
   "execution_count": 7,
   "id": "529b6cc5",
   "metadata": {},
   "outputs": [
    {
     "name": "stdout",
     "output_type": "stream",
     "text": [
      "1/1 [==============================] - 0s 264ms/step\n",
      "The predicted sentiment of the review is: negative\n"
     ]
    }
   ],
   "source": [
    "import tensorflow as tf\n",
    "from tensorflow.keras.datasets import imdb\n",
    "from tensorflow.keras.preprocessing.sequence import pad_sequences\n",
    "from tensorflow.keras.models import load_model\n",
    "\n",
    "# Load the IMDb dataset\n",
    "(x_train, y_train), (x_test, y_test) = imdb.load_data(num_words=10000)\n",
    "\n",
    "# Pad sequences to make them the same length\n",
    "max_sequence_length = 200\n",
    "x_train = pad_sequences(x_train, maxlen=max_sequence_length)\n",
    "x_test = pad_sequences(x_test, maxlen=max_sequence_length)\n",
    "\n",
    "# Load the saved model\n",
    "model = load_model('mini.h5')\n",
    "\n",
    "# Example review for prediction\n",
    "example_review = \"very bad movie\"\n",
    "\n",
    "# Preprocess the example review (convert to sequences and pad)\n",
    "word_index = imdb.get_word_index()\n",
    "example_review_seq = [word_index[word] if word in word_index else 0 for word in example_review.lower().split()]\n",
    "example_review_seq = pad_sequences([example_review_seq], maxlen=max_sequence_length)\n",
    "\n",
    "# Reshape the example_review_seq to match the model input shape\n",
    "example_review_seq = example_review_seq.reshape(1, -1)\n",
    "\n",
    "# Make prediction using the loaded model\n",
    "prediction = model.predict(example_review_seq)\n",
    "if prediction[0][0] >= 0.5:\n",
    "    sentiment = 'positive'\n",
    "else:\n",
    "    sentiment = 'negative'\n",
    "\n",
    "print(f\"The predicted sentiment of the review is: {sentiment}\")\n"
   ]
  },
  {
   "cell_type": "code",
   "execution_count": null,
   "id": "813fae6d",
   "metadata": {},
   "outputs": [],
   "source": []
  }
 ],
 "metadata": {
  "kernelspec": {
   "display_name": "Python 3 (ipykernel)",
   "language": "python",
   "name": "python3"
  },
  "language_info": {
   "codemirror_mode": {
    "name": "ipython",
    "version": 3
   },
   "file_extension": ".py",
   "mimetype": "text/x-python",
   "name": "python",
   "nbconvert_exporter": "python",
   "pygments_lexer": "ipython3",
   "version": "3.10.9"
  }
 },
 "nbformat": 4,
 "nbformat_minor": 5
}
